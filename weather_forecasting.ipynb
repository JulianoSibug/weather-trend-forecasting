{
 "cells": [
  {
   "cell_type": "code",
   "id": "initial_id",
   "metadata": {
    "collapsed": true,
    "ExecuteTime": {
     "end_time": "2025-03-18T03:46:31.675867Z",
     "start_time": "2025-03-18T03:46:31.673724Z"
    }
   },
   "source": [
    "import pandas as pd\n",
    "import numpy as np\n",
    "import matplotlib.pyplot as plt"
   ],
   "outputs": [],
   "execution_count": 3
  },
  {
   "metadata": {
    "ExecuteTime": {
     "end_time": "2025-03-18T04:13:08.208684Z",
     "start_time": "2025-03-18T04:13:08.057693Z"
    }
   },
   "cell_type": "code",
   "source": [
    "df = pd.read_csv('GlobalWeatherRepository.csv')\n",
    "print(df.head())\n",
    "print(df.shape)"
   ],
   "id": "2be5715708c7c05f",
   "outputs": [
    {
     "name": "stdout",
     "output_type": "stream",
     "text": [
      "       country     location_name  latitude  longitude        timezone  \\\n",
      "0  Afghanistan             Kabul     34.52      69.18      Asia/Kabul   \n",
      "1      Albania            Tirana     41.33      19.82   Europe/Tirane   \n",
      "2      Algeria           Algiers     36.76       3.05  Africa/Algiers   \n",
      "3      Andorra  Andorra La Vella     42.50       1.52  Europe/Andorra   \n",
      "4       Angola            Luanda     -8.84      13.23   Africa/Luanda   \n",
      "\n",
      "   last_updated_epoch      last_updated  temperature_celsius  \\\n",
      "0          1715849100  2024-05-16 13:15                 26.6   \n",
      "1          1715849100  2024-05-16 10:45                 19.0   \n",
      "2          1715849100  2024-05-16 09:45                 23.0   \n",
      "3          1715849100  2024-05-16 10:45                  6.3   \n",
      "4          1715849100  2024-05-16 09:45                 26.0   \n",
      "\n",
      "   temperature_fahrenheit condition_text  ...  air_quality_PM2.5  \\\n",
      "0                    79.8  Partly Cloudy  ...                8.4   \n",
      "1                    66.2  Partly cloudy  ...                1.1   \n",
      "2                    73.4          Sunny  ...               10.4   \n",
      "3                    43.3  Light drizzle  ...                0.7   \n",
      "4                    78.8  Partly cloudy  ...              183.4   \n",
      "\n",
      "   air_quality_PM10  air_quality_us-epa-index air_quality_gb-defra-index  \\\n",
      "0              26.6                         1                          1   \n",
      "1               2.0                         1                          1   \n",
      "2              18.4                         1                          1   \n",
      "3               0.9                         1                          1   \n",
      "4             262.3                         5                         10   \n",
      "\n",
      "    sunrise    sunset  moonrise   moonset      moon_phase  moon_illumination  \n",
      "0  04:50 AM  06:50 PM  12:12 PM  01:11 AM  Waxing Gibbous                 55  \n",
      "1  05:21 AM  07:54 PM  12:58 PM  02:14 AM  Waxing Gibbous                 55  \n",
      "2  05:40 AM  07:50 PM  01:15 PM  02:14 AM  Waxing Gibbous                 55  \n",
      "3  06:31 AM  09:11 PM  02:12 PM  03:31 AM  Waxing Gibbous                 55  \n",
      "4  06:12 AM  05:55 PM  01:17 PM  12:38 AM  Waxing Gibbous                 55  \n",
      "\n",
      "[5 rows x 41 columns]\n",
      "(59243, 41)\n"
     ]
    }
   ],
   "execution_count": 6
  },
  {
   "metadata": {},
   "cell_type": "code",
   "outputs": [],
   "execution_count": null,
   "source": "",
   "id": "db97b2d03eb0ff68"
  }
 ],
 "metadata": {
  "kernelspec": {
   "display_name": "Python 3",
   "language": "python",
   "name": "python3"
  },
  "language_info": {
   "codemirror_mode": {
    "name": "ipython",
    "version": 2
   },
   "file_extension": ".py",
   "mimetype": "text/x-python",
   "name": "python",
   "nbconvert_exporter": "python",
   "pygments_lexer": "ipython2",
   "version": "2.7.6"
  }
 },
 "nbformat": 4,
 "nbformat_minor": 5
}
